{
  "nbformat": 4,
  "nbformat_minor": 0,
  "metadata": {
    "colab": {
      "name": "EMHTestingAssignmentAndrosov.ipynb",
      "provenance": [],
      "collapsed_sections": [],
      "authorship_tag": "ABX9TyNJlxG4yrkzAb2zujbyLwmT",
      "include_colab_link": true
    },
    "kernelspec": {
      "display_name": "Python 3",
      "name": "python3"
    }
  },
  "cells": [
    {
      "cell_type": "markdown",
      "metadata": {
        "id": "view-in-github",
        "colab_type": "text"
      },
      "source": [
        "<a href=\"https://colab.research.google.com/github/tupoylogin/EMHAssignment/blob/main/EMHTestingAssignmentAndrosov.ipynb\" target=\"_parent\"><img src=\"https://colab.research.google.com/assets/colab-badge.svg\" alt=\"Open In Colab\"/></a>"
      ]
    },
    {
      "cell_type": "code",
      "metadata": {
        "id": "o3woayYwJba_"
      },
      "source": [
        "import requests\n",
        "import io\n",
        "\n",
        "import numpy as np\n",
        "import pandas as pd\n",
        "from scipy.stats import norm\n",
        "import matplotlib.pyplot as plt\n",
        "import seaborn as sns\n",
        "\n",
        "sns.set()"
      ],
      "execution_count": null,
      "outputs": []
    },
    {
      "cell_type": "code",
      "metadata": {
        "id": "jTKvSxT6Jmyc"
      },
      "source": [
        "URL = 'http://www.ux.ua/ru/index/stat/dailyhistoryexport.aspx?type=4&code=UX&day1=20150108&day2=20210221'\n",
        "stocks = requests.get(URL).content.decode('utf-8')\n",
        "stocks = pd.read_csv(io.StringIO(stocks)).fillna(0)"
      ],
      "execution_count": null,
      "outputs": []
    },
    {
      "cell_type": "code",
      "metadata": {
        "colab": {
          "base_uri": "https://localhost:8080/",
          "height": 359
        },
        "id": "-LS1yf5YKfjo",
        "outputId": "4b0d3bad-813c-4405-c360-c8696ab6f0ba"
      },
      "source": [
        "stocks.head(10)"
      ],
      "execution_count": null,
      "outputs": [
        {
          "output_type": "execute_result",
          "data": {
            "text/html": [
              "<div>\n",
              "<style scoped>\n",
              "    .dataframe tbody tr th:only-of-type {\n",
              "        vertical-align: middle;\n",
              "    }\n",
              "\n",
              "    .dataframe tbody tr th {\n",
              "        vertical-align: top;\n",
              "    }\n",
              "\n",
              "    .dataframe thead th {\n",
              "        text-align: right;\n",
              "    }\n",
              "</style>\n",
              "<table border=\"1\" class=\"dataframe\">\n",
              "  <thead>\n",
              "    <tr style=\"text-align: right;\">\n",
              "      <th></th>\n",
              "      <th>&lt;TICKER&gt;</th>\n",
              "      <th>&lt;PER&gt;</th>\n",
              "      <th>&lt;DTYYYYMMDD&gt;</th>\n",
              "      <th>&lt;TIME&gt;</th>\n",
              "      <th>&lt;OPEN&gt;</th>\n",
              "      <th>&lt;HIGH&gt;</th>\n",
              "      <th>&lt;LOW&gt;</th>\n",
              "      <th>&lt;CLOSE&gt;</th>\n",
              "      <th>&lt;VOL&gt;</th>\n",
              "    </tr>\n",
              "  </thead>\n",
              "  <tbody>\n",
              "    <tr>\n",
              "      <th>0</th>\n",
              "      <td>UX</td>\n",
              "      <td>D</td>\n",
              "      <td>20210219</td>\n",
              "      <td>0</td>\n",
              "      <td>1864.29</td>\n",
              "      <td>1864.29</td>\n",
              "      <td>1862.41</td>\n",
              "      <td>1862.41</td>\n",
              "      <td>0.0</td>\n",
              "    </tr>\n",
              "    <tr>\n",
              "      <th>1</th>\n",
              "      <td>UX</td>\n",
              "      <td>D</td>\n",
              "      <td>20210218</td>\n",
              "      <td>0</td>\n",
              "      <td>1821.93</td>\n",
              "      <td>1869.51</td>\n",
              "      <td>1816.96</td>\n",
              "      <td>1864.29</td>\n",
              "      <td>137570.0</td>\n",
              "    </tr>\n",
              "    <tr>\n",
              "      <th>2</th>\n",
              "      <td>UX</td>\n",
              "      <td>D</td>\n",
              "      <td>20210217</td>\n",
              "      <td>0</td>\n",
              "      <td>1821.93</td>\n",
              "      <td>1821.93</td>\n",
              "      <td>1821.93</td>\n",
              "      <td>1821.93</td>\n",
              "      <td>4500.0</td>\n",
              "    </tr>\n",
              "    <tr>\n",
              "      <th>3</th>\n",
              "      <td>UX</td>\n",
              "      <td>D</td>\n",
              "      <td>20210216</td>\n",
              "      <td>0</td>\n",
              "      <td>1769.55</td>\n",
              "      <td>1821.93</td>\n",
              "      <td>1769.55</td>\n",
              "      <td>1821.93</td>\n",
              "      <td>255000.0</td>\n",
              "    </tr>\n",
              "    <tr>\n",
              "      <th>4</th>\n",
              "      <td>UX</td>\n",
              "      <td>D</td>\n",
              "      <td>20210215</td>\n",
              "      <td>0</td>\n",
              "      <td>1789.63</td>\n",
              "      <td>1789.63</td>\n",
              "      <td>1769.55</td>\n",
              "      <td>1769.55</td>\n",
              "      <td>4300.0</td>\n",
              "    </tr>\n",
              "    <tr>\n",
              "      <th>5</th>\n",
              "      <td>UX</td>\n",
              "      <td>D</td>\n",
              "      <td>20210212</td>\n",
              "      <td>0</td>\n",
              "      <td>1782.11</td>\n",
              "      <td>1789.63</td>\n",
              "      <td>1782.11</td>\n",
              "      <td>1789.63</td>\n",
              "      <td>157600.0</td>\n",
              "    </tr>\n",
              "    <tr>\n",
              "      <th>6</th>\n",
              "      <td>UX</td>\n",
              "      <td>D</td>\n",
              "      <td>20210211</td>\n",
              "      <td>0</td>\n",
              "      <td>1788.39</td>\n",
              "      <td>1788.39</td>\n",
              "      <td>1782.11</td>\n",
              "      <td>1782.11</td>\n",
              "      <td>38200.0</td>\n",
              "    </tr>\n",
              "    <tr>\n",
              "      <th>7</th>\n",
              "      <td>UX</td>\n",
              "      <td>D</td>\n",
              "      <td>20210210</td>\n",
              "      <td>0</td>\n",
              "      <td>1773.49</td>\n",
              "      <td>1788.39</td>\n",
              "      <td>1773.49</td>\n",
              "      <td>1788.39</td>\n",
              "      <td>55200.0</td>\n",
              "    </tr>\n",
              "    <tr>\n",
              "      <th>8</th>\n",
              "      <td>UX</td>\n",
              "      <td>D</td>\n",
              "      <td>20210209</td>\n",
              "      <td>0</td>\n",
              "      <td>1765.97</td>\n",
              "      <td>1788.39</td>\n",
              "      <td>1765.97</td>\n",
              "      <td>1773.49</td>\n",
              "      <td>62176.0</td>\n",
              "    </tr>\n",
              "    <tr>\n",
              "      <th>9</th>\n",
              "      <td>UX</td>\n",
              "      <td>D</td>\n",
              "      <td>20210208</td>\n",
              "      <td>0</td>\n",
              "      <td>1765.97</td>\n",
              "      <td>1765.97</td>\n",
              "      <td>1765.97</td>\n",
              "      <td>1765.97</td>\n",
              "      <td>0.0</td>\n",
              "    </tr>\n",
              "  </tbody>\n",
              "</table>\n",
              "</div>"
            ],
            "text/plain": [
              "  <TICKER> <PER>  <DTYYYYMMDD>  <TIME>  ...   <HIGH>    <LOW>  <CLOSE>     <VOL>\n",
              "0       UX     D      20210219       0  ...  1864.29  1862.41  1862.41       0.0\n",
              "1       UX     D      20210218       0  ...  1869.51  1816.96  1864.29  137570.0\n",
              "2       UX     D      20210217       0  ...  1821.93  1821.93  1821.93    4500.0\n",
              "3       UX     D      20210216       0  ...  1821.93  1769.55  1821.93  255000.0\n",
              "4       UX     D      20210215       0  ...  1789.63  1769.55  1769.55    4300.0\n",
              "5       UX     D      20210212       0  ...  1789.63  1782.11  1789.63  157600.0\n",
              "6       UX     D      20210211       0  ...  1788.39  1782.11  1782.11   38200.0\n",
              "7       UX     D      20210210       0  ...  1788.39  1773.49  1788.39   55200.0\n",
              "8       UX     D      20210209       0  ...  1788.39  1765.97  1773.49   62176.0\n",
              "9       UX     D      20210208       0  ...  1765.97  1765.97  1765.97       0.0\n",
              "\n",
              "[10 rows x 9 columns]"
            ]
          },
          "metadata": {
            "tags": []
          },
          "execution_count": 3
        }
      ]
    },
    {
      "cell_type": "code",
      "metadata": {
        "id": "Mq5E90alOWVI"
      },
      "source": [
        "stocks['<RETURN>'] = (stocks['<CLOSE>'] - stocks ['<OPEN>'])/stocks['<OPEN>']\n",
        "avg_return = stocks['<RETURN>'].mean()\n",
        "std_return = stocks['<RETURN>'].std()"
      ],
      "execution_count": null,
      "outputs": []
    },
    {
      "cell_type": "code",
      "metadata": {
        "colab": {
          "base_uri": "https://localhost:8080/",
          "height": 357
        },
        "id": "jUdFENgluDvH",
        "outputId": "30baaa95-2ff9-4d5d-9768-29c74db8ac40"
      },
      "source": [
        "%matplotlib inline\n",
        "fig, ax = plt.subplots(figsize=(5,5))\n",
        "sns.scatterplot(x=stocks['<RETURN>'], y=stocks['<RETURN>'].diff(1))\n",
        "sns.lineplot(x=stocks['<RETURN>'], y=stocks['<RETURN>'], color='red')\n",
        "ax.set_xlabel('$return(t)$')\n",
        "ax.set_ylabel('$return(t+1)$')\n",
        "ax.set_title('Relationship between return values for two consequent days')\n",
        "plt.show()"
      ],
      "execution_count": null,
      "outputs": [
        {
          "output_type": "display_data",
          "data": {
            "image/png": "[encoded data removed]",
            "text/plain": [
              "<Figure size 360x360 with 1 Axes>"
            ]
          },
          "metadata": {
            "tags": []
          }
        }
      ]
    },
    {
      "cell_type": "markdown",
      "metadata": {
        "id": "CWG4Oy1-TeNE"
      },
      "source": [
        "##the Wald–Wolfowitz test\n",
        "$Z = \\frac{R-\\mu}{\\sigma} $\n",
        "\n",
        "where\n",
        "\n",
        "$\\mu = \\frac{2N_+N_-}{N} + 1, \\sigma^2 = \\frac{(\\mu - 1)(\\mu - 2)}{N - 1}$\n"
      ]
    },
    {
      "cell_type": "code",
      "metadata": {
        "id": "zTvdKqptbS3b"
      },
      "source": [
        "runs = np.sign(stocks['<RETURN>'] - avg_return)\n",
        "r = np.abs(runs.diff(1).fillna(0)/2).sum()\n",
        "# diff operator returns '2' when sign changes from '+' to '-' otherwise '-2'\n",
        "# it is necessary to take absolute values and divide the sequence by 2\n",
        "# then we'll have '1' for sign change and '0' otherwise\n",
        "n_plus = (runs>0).sum()\n",
        "n_minus = (runs<0).sum()\n",
        "n = n_plus + n_minus"
      ],
      "execution_count": null,
      "outputs": []
    },
    {
      "cell_type": "code",
      "metadata": {
        "colab": {
          "base_uri": "https://localhost:8080/"
        },
        "id": "Juawg4VGf7tb",
        "outputId": "acc6972f-708c-4339-8774-f2aa5601d8c4"
      },
      "source": [
        "mu = 2*n_plus*n_minus/n + 1\n",
        "sigma = np.sqrt(((mu - 1)*(mu - 2))/(n - 1))\n",
        "z = (r-mu)/sigma\n",
        "p_val = norm.sf(np.abs(z))*2 #two-sided hypothesis check\n",
        "print(f'Z = {z}\\np = {p_val}')"
      ],
      "execution_count": null,
      "outputs": [
        {
          "output_type": "stream",
          "text": [
            "Z = -4.217568536358359\n",
            "p = 2.4695077285127747e-05\n"
          ],
          "name": "stdout"
        }
      ]
    },
    {
      "cell_type": "markdown",
      "metadata": {
        "id": "KAIHI2A1nxUK"
      },
      "source": [
        "### As we can see, $p < 0.05$, thus we can reject $H_0 : \\{ret(t_i) \\sim i.i.d. N(0, \\sigma_{t_i}), \\forall i \\}$"
      ]
    },
    {
      "cell_type": "markdown",
      "metadata": {
        "id": "6D5EUAqhA2r5"
      },
      "source": [
        "## RS Analysis"
      ]
    },
    {
      "cell_type": "code",
      "metadata": {
        "id": "QcUnyMy_OtGT"
      },
      "source": [
        "def divide_chunks(l: pd.Series, n: int): \n",
        "      \n",
        "    # looping till length l \n",
        "    for i in range(0, len(l), n):  \n",
        "        yield l.iloc[i:i + n]"
      ],
      "execution_count": null,
      "outputs": []
    },
    {
      "cell_type": "code",
      "metadata": {
        "id": "sGzJdzEPtae5"
      },
      "source": [
        "#define log-ratio\n",
        "#i've decided to use close price rather than return because of log domain\n",
        "log_rat = (stocks['<CLOSE>']/(stocks['<CLOSE>'].shift(1)+0.001))\\\n",
        "           .map(np.log).iloc[1:]\n",
        "y = list()\n",
        "x = list()\n",
        "z = list()\n",
        "for i in range(2, len(log_rat)//2+1):\n",
        "  n_periods = i\n",
        "  #calculate mean of each subgroup\n",
        "  periods = list(divide_chunks(log_rat, n_periods))\n",
        "  means = list(map(lambda x: x.mean(), periods))\n",
        "  stds = list(map(lambda x: np.nan_to_num(x.std(), 0.), periods))\n",
        "  diffs = list(map(lambda x: (x[0]-x[1]).cumsum(), zip(periods, means)))\n",
        "  r = list(map(lambda x: x.max() - x.min(), diffs))\n",
        "  rs = sum([r_i/(s_i+1e6) for r_i, s_i in zip(r, stds)])/n_periods\n",
        "  ers = ((n_periods-0.5)/n_periods)*\\\n",
        "          np.power(np.pi*n_periods*0.5, -0.5)*\\\n",
        "          sum(np.sqrt([(n-i)/n for i in range(1, n+1)]))\n",
        "  y.append(np.log(rs))\n",
        "  z.append(ers)\n",
        "  x.append(np.log(n_periods))\n"
      ],
      "execution_count": null,
      "outputs": []
    },
    {
      "cell_type": "code",
      "metadata": {
        "id": "2U4qTZKxMW3l"
      },
      "source": [
        "from scipy.linalg import lstsq"
      ],
      "execution_count": null,
      "outputs": []
    },
    {
      "cell_type": "code",
      "metadata": {
        "id": "GbnHP7TZRMZ0"
      },
      "source": [
        "solution = lstsq(np.vstack((x, np.ones(len(x)))).T, y)[0]\n",
        "solution_ideal = lstsq(np.vstack((x, np.ones(len(x)))).T, z)[0]"
      ],
      "execution_count": null,
      "outputs": []
    },
    {
      "cell_type": "code",
      "metadata": {
        "colab": {
          "base_uri": "https://localhost:8080/",
          "height": 357
        },
        "id": "RVHSWPsMCo_S",
        "outputId": "caddc6cf-58a4-4476-9b6b-2da288ac6489"
      },
      "source": [
        "%matplotlib inline\n",
        "fig, ax = plt.subplots(figsize=(10,5))\n",
        "sns.lineplot(x=x, y=y)\n",
        "sns.lineplot(x=x, y=solution.dot(np.vstack((x, np.ones(len(x))))), color='red')\n",
        "sns.lineplot(x=x, y=solution_ideal.dot(np.vstack((x, np.ones(len(x))))), color='brown')\n",
        "ax.set_xlabel(r'$\\ln(n)$')\n",
        "ax.set_ylabel(r'$\\ln(\\frac{R}{S_n})$')\n",
        "ax.set_title('Hearst regression model')\n",
        "ax.legend(['True', 'Approximated', 'Expected'])\n",
        "plt.show()"
      ],
      "execution_count": null,
      "outputs": [
        {
          "output_type": "display_data",
          "data": {
            "image/png": "[encoded data removed]",
            "text/plain": [
              "<Figure size 720x360 with 1 Axes>"
            ]
          },
          "metadata": {
            "tags": [],
            "needs_background": "light"
          }
        }
      ]
    },
    {
      "cell_type": "code",
      "metadata": {
        "colab": {
          "base_uri": "https://localhost:8080/"
        },
        "id": "H3pwd-sOW433",
        "outputId": "f53a9c8a-c325-4e02-b668-cb9ec59652f2"
      },
      "source": [
        "#compare to value, proposed by Anis and Lloyd by performing z-test\n",
        "z = np.abs(solution_ideal[0]-solution[0])/(1/len(y))\n",
        "p_val = norm.sf(np.abs(z))*2 #two-sided hypothesis check\n",
        "print(f'Z = {z}\\np = {p_val}')"
      ],
      "execution_count": null,
      "outputs": [
        {
          "output_type": "stream",
          "text": [
            "Z = 29408.519917105292\n",
            "p = 0.0\n"
          ],
          "name": "stdout"
        }
      ]
    },
    {
      "cell_type": "markdown",
      "metadata": {
        "id": "WuigHBczW3hf"
      },
      "source": [
        "### Again, we can reject hypothesis of normal distribution of given system"
      ]
    }
  ]
}